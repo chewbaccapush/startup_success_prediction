{
  "nbformat": 4,
  "nbformat_minor": 0,
  "metadata": {
    "colab": {
      "provenance": []
    },
    "kernelspec": {
      "name": "python3",
      "display_name": "Python 3"
    },
    "language_info": {
      "name": "python"
    }
  },
  "cells": [
    {
      "cell_type": "markdown",
      "source": [
        "# NAPOVEDOVANJE USPEHA STARTUP - OV"
      ],
      "metadata": {
        "id": "Ott3gTaF4NFi"
      }
    },
    {
      "cell_type": "markdown",
      "source": [
        "\n",
        "## UVOD\n",
        "Ustanovitev podjetja je tvegan podvig, stopnja uspešnosti startup-ov pa je pogosto nizka. Po podatkih Uprave za mala podjetja približno 50 % malih podjetij propade v prvih petih letih. Ta velik procent propadov je mogoče pripisati različnim dejavnikom, vključno z neustreznimi tržnimi raziskavami, pomanjkanjem kapitala in slabemu vodenju.\n",
        "\n",
        "V projektu bom uporabil tehnike strojnega učenja za napovedovanje stopnje uspešnosti startupov v ZDA. Z analizo podatkov o startup-ih in njihovih rezultatih bom poskusil prepoznati vzorce in trende, ki jih je mogoče uporabiti za natančnejše napovedi o verjetnosti uspeha novih podjetij. Te informacije so lahko dragocene za  podjetnike, ki želijo oceniti izvedljivost svojih poslovnih idej, pa tudi za vlagatelje, ki želijo sprejemati informirane odločitve o tem, kam bodo vlagali.\n",
        "\n",
        "Za analizo podatkov in napovedovanje bomo uporabili različne algoritme in tehnike strojnega učenja. Tukaj bom uporabil Random Forest Classifier. Cilj je zgraditi model, ki je sposoben napovedati stopnjo uspešnosti startup-ov na podlagi različnih dejavnikov, kot so panoga, v kateri startup deluje, lokacija podjetja, izkušnje ustanoviteljev, povezave z drugimi podjetji in kakšno je njihovo začetno financiranje. \n",
        "\n",
        "## OPIS SPREMENLJIVK\n",
        "\n",
        "\n",
        "*   *State Code* - Unikatna koda za vsako zavezno državo v ZDA (številsko)\n",
        "*  *City* - Mesto, kjer se nahaja podjetje (kategorično)\n",
        "*   *Zip Code* - Poštna številka mesta (številsko)\n",
        "*   *Name* - Ime podjetja (kategorično)\n",
        "*   *Age* - Koliko je staro podjetje\n",
        "*   *First Funding at* - Kdaj je potekalo prvo financiranje podjetja (številsko)\n",
        "*   *Last Funding at* - Kdaj je potekalo zadnje financiranje podjetja (številsko)\n",
        "*   *Age Of First Funding Year* - Koliko let je preteklo odkar je bilo prvic financirano (številsko)\n",
        "*   *Age Of Last Funding Year* - Koliko let je preteklo odkar je bilo zadnjic financirano (številsko)\n",
        "*   *Age Of First Milestone Year* - Koliko let je preteklo odkar je podjetje doseglo prvi mejnik (številsko)\n",
        "*   *Age Of Last Milestone Year* - Koliko let je preteklo odkar je podjetje doseglo zadnji mejnik (številsko)\n",
        "*   *Relationships* - Število povezav z ostalimi podjetji (številsko)\n",
        "*   *Funding Rounds* - Število krogov v katerih je podjetje zbiralo denar  (številsko)\n",
        "*   *Funding Total USD* - Celotna količina zbranega denarja (številsko) \n",
        "*   *Milestones* - Število mejnikov, ki jih je podjetje doseglo (številsko)\n",
        "*   *Category* - Kategorija sektorja gospodarstva kjer podjetje nastopa (kategorično)\n",
        "*   *has_VC* - Če ima tveganega kapitalista, ki vlaga v podjetje (številsko)\n",
        "*   *has_Angel* - Če ima podjetje posameznika z veliko denarja in znanja, ki vlaga v podjetje \n",
        "*   *has_roundA* - Če je podjetje imelo prvo stopnjo financiranja (angl. Round A) (številsko)\n",
        "*   *has_roundB* - Če je podjetje imelo drugo stopnjo financiranja (angl. Round B) (številsko)\n",
        "*   *has_roundC* - Če je podjetje imelo tretjo stopnjo financiranja (angl. Round C) (številsko)\n",
        "*   *has_roundD* - Če je podjetje imelo četrto stopnjo financiranja (angl. Round D) (številsko)\n",
        "*   *Average Participants* - Povprčno število investitorjev,ki je sodelovalo pri financiranju (številsko)\n",
        "*   *is_acquired* - Pove, če je bilo podjetje kupljeno ali zje propadlo (kategorično: 'accuired' - kupljeno, 'closed' - propadlo)\n",
        "\n",
        "\n",
        "\n",
        "\n",
        "\n",
        "\n",
        "\n",
        "\n"
      ],
      "metadata": {
        "id": "i9Rgy_UWO7y_"
      }
    },
    {
      "cell_type": "code",
      "execution_count": 17,
      "metadata": {
        "colab": {
          "base_uri": "https://localhost:8080/",
          "height": 387
        },
        "id": "Zkd7QmurNfj8",
        "outputId": "9d428ec7-0c72-486d-ff34-b4bc14d541c1"
      },
      "outputs": [
        {
          "output_type": "execute_result",
          "data": {
            "text/plain": [
              "  state_code zip_code           city               name  \\\n",
              "0         CA    92101      San Diego        Bandsintown   \n",
              "1         CA    95032      Los Gatos          TriCipher   \n",
              "2         CA    92121      San Diego              Plixi   \n",
              "3         CA    95014      Cupertino  Solidcore Systems   \n",
              "4         CA    94105  San Francisco     Inhale Digital   \n",
              "\n",
              "   is_acquired_numerical founded_at  closed_at first_funding_at  \\\n",
              "0                      1   1/1/2007        NaN         4/1/2009   \n",
              "1                      1   1/1/2000        NaN        2/14/2005   \n",
              "2                      1  3/18/2009        NaN        3/30/2010   \n",
              "3                      1   1/1/2002        NaN        2/17/2005   \n",
              "4                      0   8/1/2010  10/1/2012         8/1/2010   \n",
              "\n",
              "  last_funding_at  age_first_funding_year  ...  is_consulting  \\\n",
              "0        1/1/2010                  2.2493  ...              0   \n",
              "1      12/28/2009                  5.1260  ...              0   \n",
              "2       3/30/2010                  1.0329  ...              0   \n",
              "3       4/25/2007                  3.1315  ...              0   \n",
              "4        4/1/2012                  0.0000  ...              0   \n",
              "\n",
              "   is_othercategory  has_VC  has_angel  has_roundA  has_roundB  has_roundC  \\\n",
              "0                 1       0          1           0           0           0   \n",
              "1                 0       1          0           0           1           1   \n",
              "2                 0       0          0           1           0           0   \n",
              "3                 0       0          0           0           1           1   \n",
              "4                 0       1          1           0           0           0   \n",
              "\n",
              "  has_roundD  avg_participants  is_acquired  \n",
              "0          0            1.0000     acquired  \n",
              "1          1            4.7500     acquired  \n",
              "2          0            4.0000     acquired  \n",
              "3          1            3.3333     acquired  \n",
              "4          0            1.0000       closed  \n",
              "\n",
              "[5 rows x 36 columns]"
            ],
            "text/html": [
              "\n",
              "  <div id=\"df-ca7d6bb5-8f7b-4f01-a22d-313bd9d3a9ab\">\n",
              "    <div class=\"colab-df-container\">\n",
              "      <div>\n",
              "<style scoped>\n",
              "    .dataframe tbody tr th:only-of-type {\n",
              "        vertical-align: middle;\n",
              "    }\n",
              "\n",
              "    .dataframe tbody tr th {\n",
              "        vertical-align: top;\n",
              "    }\n",
              "\n",
              "    .dataframe thead th {\n",
              "        text-align: right;\n",
              "    }\n",
              "</style>\n",
              "<table border=\"1\" class=\"dataframe\">\n",
              "  <thead>\n",
              "    <tr style=\"text-align: right;\">\n",
              "      <th></th>\n",
              "      <th>state_code</th>\n",
              "      <th>zip_code</th>\n",
              "      <th>city</th>\n",
              "      <th>name</th>\n",
              "      <th>is_acquired_numerical</th>\n",
              "      <th>founded_at</th>\n",
              "      <th>closed_at</th>\n",
              "      <th>first_funding_at</th>\n",
              "      <th>last_funding_at</th>\n",
              "      <th>age_first_funding_year</th>\n",
              "      <th>...</th>\n",
              "      <th>is_consulting</th>\n",
              "      <th>is_othercategory</th>\n",
              "      <th>has_VC</th>\n",
              "      <th>has_angel</th>\n",
              "      <th>has_roundA</th>\n",
              "      <th>has_roundB</th>\n",
              "      <th>has_roundC</th>\n",
              "      <th>has_roundD</th>\n",
              "      <th>avg_participants</th>\n",
              "      <th>is_acquired</th>\n",
              "    </tr>\n",
              "  </thead>\n",
              "  <tbody>\n",
              "    <tr>\n",
              "      <th>0</th>\n",
              "      <td>CA</td>\n",
              "      <td>92101</td>\n",
              "      <td>San Diego</td>\n",
              "      <td>Bandsintown</td>\n",
              "      <td>1</td>\n",
              "      <td>1/1/2007</td>\n",
              "      <td>NaN</td>\n",
              "      <td>4/1/2009</td>\n",
              "      <td>1/1/2010</td>\n",
              "      <td>2.2493</td>\n",
              "      <td>...</td>\n",
              "      <td>0</td>\n",
              "      <td>1</td>\n",
              "      <td>0</td>\n",
              "      <td>1</td>\n",
              "      <td>0</td>\n",
              "      <td>0</td>\n",
              "      <td>0</td>\n",
              "      <td>0</td>\n",
              "      <td>1.0000</td>\n",
              "      <td>acquired</td>\n",
              "    </tr>\n",
              "    <tr>\n",
              "      <th>1</th>\n",
              "      <td>CA</td>\n",
              "      <td>95032</td>\n",
              "      <td>Los Gatos</td>\n",
              "      <td>TriCipher</td>\n",
              "      <td>1</td>\n",
              "      <td>1/1/2000</td>\n",
              "      <td>NaN</td>\n",
              "      <td>2/14/2005</td>\n",
              "      <td>12/28/2009</td>\n",
              "      <td>5.1260</td>\n",
              "      <td>...</td>\n",
              "      <td>0</td>\n",
              "      <td>0</td>\n",
              "      <td>1</td>\n",
              "      <td>0</td>\n",
              "      <td>0</td>\n",
              "      <td>1</td>\n",
              "      <td>1</td>\n",
              "      <td>1</td>\n",
              "      <td>4.7500</td>\n",
              "      <td>acquired</td>\n",
              "    </tr>\n",
              "    <tr>\n",
              "      <th>2</th>\n",
              "      <td>CA</td>\n",
              "      <td>92121</td>\n",
              "      <td>San Diego</td>\n",
              "      <td>Plixi</td>\n",
              "      <td>1</td>\n",
              "      <td>3/18/2009</td>\n",
              "      <td>NaN</td>\n",
              "      <td>3/30/2010</td>\n",
              "      <td>3/30/2010</td>\n",
              "      <td>1.0329</td>\n",
              "      <td>...</td>\n",
              "      <td>0</td>\n",
              "      <td>0</td>\n",
              "      <td>0</td>\n",
              "      <td>0</td>\n",
              "      <td>1</td>\n",
              "      <td>0</td>\n",
              "      <td>0</td>\n",
              "      <td>0</td>\n",
              "      <td>4.0000</td>\n",
              "      <td>acquired</td>\n",
              "    </tr>\n",
              "    <tr>\n",
              "      <th>3</th>\n",
              "      <td>CA</td>\n",
              "      <td>95014</td>\n",
              "      <td>Cupertino</td>\n",
              "      <td>Solidcore Systems</td>\n",
              "      <td>1</td>\n",
              "      <td>1/1/2002</td>\n",
              "      <td>NaN</td>\n",
              "      <td>2/17/2005</td>\n",
              "      <td>4/25/2007</td>\n",
              "      <td>3.1315</td>\n",
              "      <td>...</td>\n",
              "      <td>0</td>\n",
              "      <td>0</td>\n",
              "      <td>0</td>\n",
              "      <td>0</td>\n",
              "      <td>0</td>\n",
              "      <td>1</td>\n",
              "      <td>1</td>\n",
              "      <td>1</td>\n",
              "      <td>3.3333</td>\n",
              "      <td>acquired</td>\n",
              "    </tr>\n",
              "    <tr>\n",
              "      <th>4</th>\n",
              "      <td>CA</td>\n",
              "      <td>94105</td>\n",
              "      <td>San Francisco</td>\n",
              "      <td>Inhale Digital</td>\n",
              "      <td>0</td>\n",
              "      <td>8/1/2010</td>\n",
              "      <td>10/1/2012</td>\n",
              "      <td>8/1/2010</td>\n",
              "      <td>4/1/2012</td>\n",
              "      <td>0.0000</td>\n",
              "      <td>...</td>\n",
              "      <td>0</td>\n",
              "      <td>0</td>\n",
              "      <td>1</td>\n",
              "      <td>1</td>\n",
              "      <td>0</td>\n",
              "      <td>0</td>\n",
              "      <td>0</td>\n",
              "      <td>0</td>\n",
              "      <td>1.0000</td>\n",
              "      <td>closed</td>\n",
              "    </tr>\n",
              "  </tbody>\n",
              "</table>\n",
              "<p>5 rows × 36 columns</p>\n",
              "</div>\n",
              "      <button class=\"colab-df-convert\" onclick=\"convertToInteractive('df-ca7d6bb5-8f7b-4f01-a22d-313bd9d3a9ab')\"\n",
              "              title=\"Convert this dataframe to an interactive table.\"\n",
              "              style=\"display:none;\">\n",
              "        \n",
              "  <svg xmlns=\"http://www.w3.org/2000/svg\" height=\"24px\"viewBox=\"0 0 24 24\"\n",
              "       width=\"24px\">\n",
              "    <path d=\"M0 0h24v24H0V0z\" fill=\"none\"/>\n",
              "    <path d=\"M18.56 5.44l.94 2.06.94-2.06 2.06-.94-2.06-.94-.94-2.06-.94 2.06-2.06.94zm-11 1L8.5 8.5l.94-2.06 2.06-.94-2.06-.94L8.5 2.5l-.94 2.06-2.06.94zm10 10l.94 2.06.94-2.06 2.06-.94-2.06-.94-.94-2.06-.94 2.06-2.06.94z\"/><path d=\"M17.41 7.96l-1.37-1.37c-.4-.4-.92-.59-1.43-.59-.52 0-1.04.2-1.43.59L10.3 9.45l-7.72 7.72c-.78.78-.78 2.05 0 2.83L4 21.41c.39.39.9.59 1.41.59.51 0 1.02-.2 1.41-.59l7.78-7.78 2.81-2.81c.8-.78.8-2.07 0-2.86zM5.41 20L4 18.59l7.72-7.72 1.47 1.35L5.41 20z\"/>\n",
              "  </svg>\n",
              "      </button>\n",
              "      \n",
              "  <style>\n",
              "    .colab-df-container {\n",
              "      display:flex;\n",
              "      flex-wrap:wrap;\n",
              "      gap: 12px;\n",
              "    }\n",
              "\n",
              "    .colab-df-convert {\n",
              "      background-color: #E8F0FE;\n",
              "      border: none;\n",
              "      border-radius: 50%;\n",
              "      cursor: pointer;\n",
              "      display: none;\n",
              "      fill: #1967D2;\n",
              "      height: 32px;\n",
              "      padding: 0 0 0 0;\n",
              "      width: 32px;\n",
              "    }\n",
              "\n",
              "    .colab-df-convert:hover {\n",
              "      background-color: #E2EBFA;\n",
              "      box-shadow: 0px 1px 2px rgba(60, 64, 67, 0.3), 0px 1px 3px 1px rgba(60, 64, 67, 0.15);\n",
              "      fill: #174EA6;\n",
              "    }\n",
              "\n",
              "    [theme=dark] .colab-df-convert {\n",
              "      background-color: #3B4455;\n",
              "      fill: #D2E3FC;\n",
              "    }\n",
              "\n",
              "    [theme=dark] .colab-df-convert:hover {\n",
              "      background-color: #434B5C;\n",
              "      box-shadow: 0px 1px 3px 1px rgba(0, 0, 0, 0.15);\n",
              "      filter: drop-shadow(0px 1px 2px rgba(0, 0, 0, 0.3));\n",
              "      fill: #FFFFFF;\n",
              "    }\n",
              "  </style>\n",
              "\n",
              "      <script>\n",
              "        const buttonEl =\n",
              "          document.querySelector('#df-ca7d6bb5-8f7b-4f01-a22d-313bd9d3a9ab button.colab-df-convert');\n",
              "        buttonEl.style.display =\n",
              "          google.colab.kernel.accessAllowed ? 'block' : 'none';\n",
              "\n",
              "        async function convertToInteractive(key) {\n",
              "          const element = document.querySelector('#df-ca7d6bb5-8f7b-4f01-a22d-313bd9d3a9ab');\n",
              "          const dataTable =\n",
              "            await google.colab.kernel.invokeFunction('convertToInteractive',\n",
              "                                                     [key], {});\n",
              "          if (!dataTable) return;\n",
              "\n",
              "          const docLinkHtml = 'Like what you see? Visit the ' +\n",
              "            '<a target=\"_blank\" href=https://colab.research.google.com/notebooks/data_table.ipynb>data table notebook</a>'\n",
              "            + ' to learn more about interactive tables.';\n",
              "          element.innerHTML = '';\n",
              "          dataTable['output_type'] = 'display_data';\n",
              "          await google.colab.output.renderOutput(dataTable, element);\n",
              "          const docLink = document.createElement('div');\n",
              "          docLink.innerHTML = docLinkHtml;\n",
              "          element.appendChild(docLink);\n",
              "        }\n",
              "      </script>\n",
              "    </div>\n",
              "  </div>\n",
              "  "
            ]
          },
          "metadata": {},
          "execution_count": 17
        }
      ],
      "source": [
        "import numpy as np\n",
        "import pandas as pd\n",
        "import seaborn as sns\n",
        "import matplotlib.pyplot as plt\n",
        "from sklearn.model_selection import train_test_split\n",
        "from sklearn.preprocessing import LabelEncoder\n",
        "from sklearn.ensemble import RandomForestClassifier \n",
        "from sklearn.preprocessing import StandardScaler\n",
        "from sklearn import preprocessing\n",
        "from sklearn import metrics\n",
        "from sklearn.model_selection import StratifiedKFold\n",
        "from sklearn.model_selection import cross_val_score\n",
        "from sklearn.tree import DecisionTreeClassifier\n",
        "from sklearn.ensemble import RandomForestClassifier, ExtraTreesClassifier,  AdaBoostClassifier, GradientBoostingClassifier\n",
        "from sklearn.neighbors import KNeighborsClassifier\n",
        "from sklearn.naive_bayes import GaussianNB\n",
        "\n",
        "df = pd.read_csv('/content/reformated_startup.csv', sep=',', decimal='.')\n",
        "\n",
        "df.head()"
      ]
    },
    {
      "cell_type": "markdown",
      "source": [
        "##PREDPROCESIRANJE PODATKOV"
      ],
      "metadata": {
        "id": "dHTXUwCW65l9"
      }
    },
    {
      "cell_type": "code",
      "source": [
        "df.isnull().sum()"
      ],
      "metadata": {
        "colab": {
          "base_uri": "https://localhost:8080/"
        },
        "id": "GnlXGK8r7CKa",
        "outputId": "2bb7371f-3fcf-4b07-d463-ee3e813903ca"
      },
      "execution_count": null,
      "outputs": [
        {
          "output_type": "execute_result",
          "data": {
            "text/plain": [
              "state_code                    0\n",
              "zip_code                      0\n",
              "city                          0\n",
              "name                          0\n",
              "is_acquired_numerical         0\n",
              "founded_at                    0\n",
              "closed_at                   587\n",
              "first_funding_at              0\n",
              "last_funding_at               0\n",
              "age_first_funding_year        0\n",
              "age_last_funding_year         0\n",
              "age_first_milestone_year    152\n",
              "age_last_milestone_year     152\n",
              "relationships                 0\n",
              "funding_rounds                0\n",
              "funding_total_usd             0\n",
              "milestones                    0\n",
              "category_code                 0\n",
              "is_software                   0\n",
              "is_web                        0\n",
              "is_mobile                     0\n",
              "is_enterprise                 0\n",
              "is_advertising                0\n",
              "is_gamesvideo                 0\n",
              "is_ecommerce                  0\n",
              "is_biotech                    0\n",
              "is_consulting                 0\n",
              "is_othercategory              0\n",
              "has_VC                        0\n",
              "has_angel                     0\n",
              "has_roundA                    0\n",
              "has_roundB                    0\n",
              "has_roundC                    0\n",
              "has_roundD                    0\n",
              "avg_participants              0\n",
              "is_acquired                   0\n",
              "dtype: int64"
            ]
          },
          "metadata": {},
          "execution_count": 13
        }
      ]
    },
    {
      "cell_type": "markdown",
      "source": [
        "Da se znebimo datumov vpeljemo novo spremenljivko *company_age*, ki pove kako staro je podjetje, računa se na naslednji način: \n",
        "\n",
        "\n",
        "1.  Pretvorimo datum kdaj se je podjetje odprlo in zaprlo v pravilno format\n",
        "2.  Zapolnimo prazne vrednosti kjer je podjetje še odprto z današnjim datumom\n",
        "3.  Odštejemo datum zaprtja/danšnji, da dobimo podatek o tem kako dolgo je podjetje obstajalo/obstaja\n",
        "\n",
        "\n",
        "\n",
        "\n",
        "\n",
        "\n"
      ],
      "metadata": {
        "id": "JDx0Wdlj7O8R"
      }
    },
    {
      "cell_type": "code",
      "source": [
        "#Prvo zapolnimo še ostalo manjkajoče vrednosti\n",
        "df['age_first_milestone_year'] = df['age_first_milestone_year'].fillna(0)\n",
        "df['age_last_milestone_year'] = df['age_last_milestone_year'].fillna(0)\n",
        "\n",
        "df['closed_at'] = df['closed_at'].fillna('2013-12-31')\n",
        "\n",
        "df['closed_at'] = pd.to_datetime(df['closed_at'])\n",
        "df['founded_at'] = pd.to_datetime(df['founded_at'])\n",
        "\n",
        "df[\"company_age\"] = (df[\"closed_at\"]-df[\"founded_at\"])\n",
        "df[\"company_age\"] = round(df.company_age/np.timedelta64(1,'Y'))\n",
        "\n",
        "#Pobrišemo še zdaj nepomembne podatke\n",
        "df.drop(['closed_at', 'founded_at'], inplace=True, axis=1)"
      ],
      "metadata": {
        "id": "PZZICtuVIRq4"
      },
      "execution_count": 18,
      "outputs": []
    },
    {
      "cell_type": "code",
      "source": [
        "#Pobiršemo negativne vrednosti/anmomalije\n",
        "df=df.drop(df[df.company_age<0].index)\n",
        "df=df.drop(df[df.age_first_funding_year<0].index)\n",
        "df=df.drop(df[df.age_last_funding_year<0].index)\n",
        "df=df.drop(df[df.age_first_milestone_year<0].index)\n",
        "df=df.drop(df[df.age_last_milestone_year<0].index)"
      ],
      "metadata": {
        "id": "rzkT7d8XIyGw"
      },
      "execution_count": 19,
      "outputs": []
    },
    {
      "cell_type": "markdown",
      "source": [
        "##ANALIZA PODATKOV \n",
        "\n",
        "Pred strojnim učenjem bom analiziral določene podatke v zbirki podatkov, ki se mi se zdijo dobri pokazatelji ali bo podjetje obstalo. Analiziral bom naslednje podatke:\n",
        "\n",
        "\n",
        "*   Kakšen vpliv ima starost podjetja na možnost uspeha\n",
        "*   Kakšen vpliv ima število mejnikov, ki jih je podjetje doseglo na možnost uspeha \n",
        "*   Kakšen vpliv ima število vez z različnimi pomembnimi akterji, ki jih ima podjetje na možnost uspeha\n",
        "\n",
        "\n"
      ],
      "metadata": {
        "id": "junl_Gs7Fce-"
      }
    },
    {
      "cell_type": "markdown",
      "source": [
        "####PRIKAZ ŠTEVILA USPELIH PODJETIJ"
      ],
      "metadata": {
        "id": "gDhwhFwRPu0v"
      }
    },
    {
      "cell_type": "code",
      "source": [
        "pie_chart_data = df[\"is_acquired_numerical\"].value_counts().to_dict()\n",
        "\n",
        "fig, ax = plt.subplots()\n",
        "ax.pie(x=[pie_chart_data[False], pie_chart_data[True]], labels=['Ne', 'Da'], \n",
        "           colors=['#ffc0a3', '#00416a'], textprops={'color': '#040204'})\n",
        "\n",
        "ax.axis('equal')\n",
        "ax.set_title('Ali je bilo podjetje uspešno?')"
      ],
      "metadata": {
        "colab": {
          "base_uri": "https://localhost:8080/",
          "height": 281
        },
        "id": "H8ZLJ7VjPulh",
        "outputId": "81c812f1-e752-4bca-bf3c-f1df93755803"
      },
      "execution_count": null,
      "outputs": [
        {
          "output_type": "execute_result",
          "data": {
            "text/plain": [
              "Text(0.5, 1.0, 'Ali je bilo podjetje uspešno?')"
            ]
          },
          "metadata": {},
          "execution_count": 16
        },
        {
          "output_type": "display_data",
          "data": {
            "text/plain": [
              "<Figure size 432x288 with 1 Axes>"
            ],
            "image/png": "[encoded data removed]"
          },
          "metadata": {}
        }
      ]
    },
    {
      "cell_type": "markdown",
      "source": [
        "####VPLIV STAROSTI PODJETJA"
      ],
      "metadata": {
        "id": "0FN58R5zg8g-"
      }
    },
    {
      "cell_type": "code",
      "source": [
        "#Preštejemo koliko je vseh podjetij, ki je uspelo po starostnih skupinah\n",
        "graf_data_age = df[df['is_acquired']=='acquired'].groupby(['company_age']).agg({'is_acquired':'count'}).reset_index()\n",
        "graf_data_age.columns = ['company_age','Total Succeded']\n",
        "\n",
        "#Preštejemo koliko je vseh podjetij po starostnih skupinah\n",
        "temp_graph_data=df.groupby(['company_age']).agg({'is_acquired':'count'}).reset_index()\n",
        "temp_graph_data.columns = ['company_age', 'Total']\n",
        "\n",
        "#Podatke združimo\n",
        "graf_data_age=graf_data_age.merge(temp_graph_data, on='company_age')\n",
        "\n",
        "#Izračunamo procentualno možnost uspeha podjetja                         \n",
        "graf_data_age['Succes Rate'] = round((graf_data_age['Total Succeded']/graf_data_age['Total']) * 100)\n",
        "\n",
        "graf_data_age"
      ],
      "metadata": {
        "colab": {
          "base_uri": "https://localhost:8080/",
          "height": 457
        },
        "id": "DYLjjgVFFkf9",
        "outputId": "f0b80753-d624-4f3d-d662-17e35a313f93"
      },
      "execution_count": null,
      "outputs": [
        {
          "output_type": "execute_result",
          "data": {
            "text/plain": [
              "    company_age  Total Succeded  Total  Succes Rate\n",
              "0           2.0               8     38         21.0\n",
              "1           3.0              16     53         30.0\n",
              "2           4.0              36     68         53.0\n",
              "3           5.0              51     83         61.0\n",
              "4           6.0              58     82         71.0\n",
              "5           7.0              54     85         64.0\n",
              "6           8.0              56     73         77.0\n",
              "7           9.0              66     85         78.0\n",
              "8          10.0              41     53         77.0\n",
              "9          11.0              43     52         83.0\n",
              "10         12.0              42     50         84.0\n",
              "11         13.0              33     41         80.0\n",
              "12         14.0              46     50         92.0"
            ],
            "text/html": [
              "\n",
              "  <div id=\"df-f1105a3e-6963-4bde-8c66-fda3d6a4a944\">\n",
              "    <div class=\"colab-df-container\">\n",
              "      <div>\n",
              "<style scoped>\n",
              "    .dataframe tbody tr th:only-of-type {\n",
              "        vertical-align: middle;\n",
              "    }\n",
              "\n",
              "    .dataframe tbody tr th {\n",
              "        vertical-align: top;\n",
              "    }\n",
              "\n",
              "    .dataframe thead th {\n",
              "        text-align: right;\n",
              "    }\n",
              "</style>\n",
              "<table border=\"1\" class=\"dataframe\">\n",
              "  <thead>\n",
              "    <tr style=\"text-align: right;\">\n",
              "      <th></th>\n",
              "      <th>company_age</th>\n",
              "      <th>Total Succeded</th>\n",
              "      <th>Total</th>\n",
              "      <th>Succes Rate</th>\n",
              "    </tr>\n",
              "  </thead>\n",
              "  <tbody>\n",
              "    <tr>\n",
              "      <th>0</th>\n",
              "      <td>2.0</td>\n",
              "      <td>8</td>\n",
              "      <td>38</td>\n",
              "      <td>21.0</td>\n",
              "    </tr>\n",
              "    <tr>\n",
              "      <th>1</th>\n",
              "      <td>3.0</td>\n",
              "      <td>16</td>\n",
              "      <td>53</td>\n",
              "      <td>30.0</td>\n",
              "    </tr>\n",
              "    <tr>\n",
              "      <th>2</th>\n",
              "      <td>4.0</td>\n",
              "      <td>36</td>\n",
              "      <td>68</td>\n",
              "      <td>53.0</td>\n",
              "    </tr>\n",
              "    <tr>\n",
              "      <th>3</th>\n",
              "      <td>5.0</td>\n",
              "      <td>51</td>\n",
              "      <td>83</td>\n",
              "      <td>61.0</td>\n",
              "    </tr>\n",
              "    <tr>\n",
              "      <th>4</th>\n",
              "      <td>6.0</td>\n",
              "      <td>58</td>\n",
              "      <td>82</td>\n",
              "      <td>71.0</td>\n",
              "    </tr>\n",
              "    <tr>\n",
              "      <th>5</th>\n",
              "      <td>7.0</td>\n",
              "      <td>54</td>\n",
              "      <td>85</td>\n",
              "      <td>64.0</td>\n",
              "    </tr>\n",
              "    <tr>\n",
              "      <th>6</th>\n",
              "      <td>8.0</td>\n",
              "      <td>56</td>\n",
              "      <td>73</td>\n",
              "      <td>77.0</td>\n",
              "    </tr>\n",
              "    <tr>\n",
              "      <th>7</th>\n",
              "      <td>9.0</td>\n",
              "      <td>66</td>\n",
              "      <td>85</td>\n",
              "      <td>78.0</td>\n",
              "    </tr>\n",
              "    <tr>\n",
              "      <th>8</th>\n",
              "      <td>10.0</td>\n",
              "      <td>41</td>\n",
              "      <td>53</td>\n",
              "      <td>77.0</td>\n",
              "    </tr>\n",
              "    <tr>\n",
              "      <th>9</th>\n",
              "      <td>11.0</td>\n",
              "      <td>43</td>\n",
              "      <td>52</td>\n",
              "      <td>83.0</td>\n",
              "    </tr>\n",
              "    <tr>\n",
              "      <th>10</th>\n",
              "      <td>12.0</td>\n",
              "      <td>42</td>\n",
              "      <td>50</td>\n",
              "      <td>84.0</td>\n",
              "    </tr>\n",
              "    <tr>\n",
              "      <th>11</th>\n",
              "      <td>13.0</td>\n",
              "      <td>33</td>\n",
              "      <td>41</td>\n",
              "      <td>80.0</td>\n",
              "    </tr>\n",
              "    <tr>\n",
              "      <th>12</th>\n",
              "      <td>14.0</td>\n",
              "      <td>46</td>\n",
              "      <td>50</td>\n",
              "      <td>92.0</td>\n",
              "    </tr>\n",
              "  </tbody>\n",
              "</table>\n",
              "</div>\n",
              "      <button class=\"colab-df-convert\" onclick=\"convertToInteractive('df-f1105a3e-6963-4bde-8c66-fda3d6a4a944')\"\n",
              "              title=\"Convert this dataframe to an interactive table.\"\n",
              "              style=\"display:none;\">\n",
              "        \n",
              "  <svg xmlns=\"http://www.w3.org/2000/svg\" height=\"24px\"viewBox=\"0 0 24 24\"\n",
              "       width=\"24px\">\n",
              "    <path d=\"M0 0h24v24H0V0z\" fill=\"none\"/>\n",
              "    <path d=\"M18.56 5.44l.94 2.06.94-2.06 2.06-.94-2.06-.94-.94-2.06-.94 2.06-2.06.94zm-11 1L8.5 8.5l.94-2.06 2.06-.94-2.06-.94L8.5 2.5l-.94 2.06-2.06.94zm10 10l.94 2.06.94-2.06 2.06-.94-2.06-.94-.94-2.06-.94 2.06-2.06.94z\"/><path d=\"M17.41 7.96l-1.37-1.37c-.4-.4-.92-.59-1.43-.59-.52 0-1.04.2-1.43.59L10.3 9.45l-7.72 7.72c-.78.78-.78 2.05 0 2.83L4 21.41c.39.39.9.59 1.41.59.51 0 1.02-.2 1.41-.59l7.78-7.78 2.81-2.81c.8-.78.8-2.07 0-2.86zM5.41 20L4 18.59l7.72-7.72 1.47 1.35L5.41 20z\"/>\n",
              "  </svg>\n",
              "      </button>\n",
              "      \n",
              "  <style>\n",
              "    .colab-df-container {\n",
              "      display:flex;\n",
              "      flex-wrap:wrap;\n",
              "      gap: 12px;\n",
              "    }\n",
              "\n",
              "    .colab-df-convert {\n",
              "      background-color: #E8F0FE;\n",
              "      border: none;\n",
              "      border-radius: 50%;\n",
              "      cursor: pointer;\n",
              "      display: none;\n",
              "      fill: #1967D2;\n",
              "      height: 32px;\n",
              "      padding: 0 0 0 0;\n",
              "      width: 32px;\n",
              "    }\n",
              "\n",
              "    .colab-df-convert:hover {\n",
              "      background-color: #E2EBFA;\n",
              "      box-shadow: 0px 1px 2px rgba(60, 64, 67, 0.3), 0px 1px 3px 1px rgba(60, 64, 67, 0.15);\n",
              "      fill: #174EA6;\n",
              "    }\n",
              "\n",
              "    [theme=dark] .colab-df-convert {\n",
              "      background-color: #3B4455;\n",
              "      fill: #D2E3FC;\n",
              "    }\n",
              "\n",
              "    [theme=dark] .colab-df-convert:hover {\n",
              "      background-color: #434B5C;\n",
              "      box-shadow: 0px 1px 3px 1px rgba(0, 0, 0, 0.15);\n",
              "      filter: drop-shadow(0px 1px 2px rgba(0, 0, 0, 0.3));\n",
              "      fill: #FFFFFF;\n",
              "    }\n",
              "  </style>\n",
              "\n",
              "      <script>\n",
              "        const buttonEl =\n",
              "          document.querySelector('#df-f1105a3e-6963-4bde-8c66-fda3d6a4a944 button.colab-df-convert');\n",
              "        buttonEl.style.display =\n",
              "          google.colab.kernel.accessAllowed ? 'block' : 'none';\n",
              "\n",
              "        async function convertToInteractive(key) {\n",
              "          const element = document.querySelector('#df-f1105a3e-6963-4bde-8c66-fda3d6a4a944');\n",
              "          const dataTable =\n",
              "            await google.colab.kernel.invokeFunction('convertToInteractive',\n",
              "                                                     [key], {});\n",
              "          if (!dataTable) return;\n",
              "\n",
              "          const docLinkHtml = 'Like what you see? Visit the ' +\n",
              "            '<a target=\"_blank\" href=https://colab.research.google.com/notebooks/data_table.ipynb>data table notebook</a>'\n",
              "            + ' to learn more about interactive tables.';\n",
              "          element.innerHTML = '';\n",
              "          dataTable['output_type'] = 'display_data';\n",
              "          await google.colab.output.renderOutput(dataTable, element);\n",
              "          const docLink = document.createElement('div');\n",
              "          docLink.innerHTML = docLinkHtml;\n",
              "          element.appendChild(docLink);\n",
              "        }\n",
              "      </script>\n",
              "    </div>\n",
              "  </div>\n",
              "  "
            ]
          },
          "metadata": {},
          "execution_count": 17
        }
      ]
    },
    {
      "cell_type": "code",
      "source": [
        "fig, ax = plt.subplots(figsize=(15,7))\n",
        "\n",
        "g = sns.barplot(x='company_age',y='Succes Rate', data=graf_data_age, ax=ax, \n",
        "               palette=sns.color_palette(\"Blues_d\", n_colors=13))\n",
        "\n",
        "x = np.arange(len(graf_data_age))\n",
        "y = graf_data_age['Succes Rate']\n",
        "\n",
        "for index, value in enumerate(y):\n",
        "    ax.text(x[index]- 0.1, value+3, str(value)+'%', fontsize = 12, color='gray', fontweight='bold')\n",
        "    \n",
        "ax.set_ylim(0,100)\n",
        "\n",
        "ax.set_xticklabels(ax.get_xticklabels(),rotation=0);\n",
        "plt.tight_layout\n",
        "plt.margins(0.02, 0.0)"
      ],
      "metadata": {
        "colab": {
          "base_uri": "https://localhost:8080/",
          "height": 446
        },
        "id": "_K9ifYkWJaO7",
        "outputId": "feac7908-84b5-4565-9fb1-203a7195e562"
      },
      "execution_count": null,
      "outputs": [
        {
          "output_type": "display_data",
          "data": {
            "text/plain": [
              "<Figure size 1080x504 with 1 Axes>"
            ],
            "image/png": "[encoded data removed]"
          },
          "metadata": {
            "needs_background": "light"
          }
        }
      ]
    },
    {
      "cell_type": "markdown",
      "source": [
        "Iz grafa je razvidno, da se ko podjetja dosežejo mejnik štirih let obstoja njihove možnosti za uspeh zelo povečajo. Po četrtem letu možnosti za uspeh podjetja enakomerno rastejo in se stabilizirajo. Za investitorje je lahko to dober pokazatelj če podjetje obstane več kot štiri leta, se možnosti, da bi izgubili denar dosti zmanjšajo.   "
      ],
      "metadata": {
        "id": "dZxSKm4rhY_j"
      }
    },
    {
      "cell_type": "markdown",
      "source": [
        "####VPLIV ŠTEVILA MEJNIKOV PODJETJA"
      ],
      "metadata": {
        "id": "hSXvngOnhDOX"
      }
    },
    {
      "cell_type": "code",
      "source": [
        "#Preštejemo koliko je vseh podjetij, ki je uspelo po število doseženih mejnikov\n",
        "graf_data_milestones = df[df['is_acquired']=='acquired'].groupby(['milestones']).agg({'is_acquired':'count'}).reset_index()\n",
        "graf_data_milestones.columns = ['milestones','Total Succeded']\n",
        "\n",
        "#Preštejemo koliko je vseh podjetij po število doseženih mejnikov\n",
        "temp_graph_data_2 = df.groupby(['milestones']).agg({'is_acquired':'count'}).reset_index()\n",
        "temp_graph_data_2.columns = ['milestones','Total']\n",
        "\n",
        "#Podatke združimo\n",
        "graf_data_milestones = graf_data_milestones.merge(temp_graph_data_2, on='milestones')\n",
        "                           \n",
        "#Izračunamo procentualno možnost uspeha podjeta za vsak dosežen mejnik\n",
        "graf_data_milestones['Succes Rate'] = round((graf_data_milestones['Total Succeded']/graf_data_milestones['Total']) * 100)\n",
        "\n",
        "graf_data_milestones"
      ],
      "metadata": {
        "colab": {
          "base_uri": "https://localhost:8080/",
          "height": 300
        },
        "id": "a8Rn_MoNPX9M",
        "outputId": "2eb29e37-68c6-4677-ab1a-c2e43226824e"
      },
      "execution_count": null,
      "outputs": [
        {
          "output_type": "execute_result",
          "data": {
            "text/plain": [
              "   milestones  Total Succeded  Total  Succes Rate\n",
              "0           0              46    143         32.0\n",
              "1           1             140    230         61.0\n",
              "2           2             160    217         74.0\n",
              "3           3             135    164         82.0\n",
              "4           4              43     54         80.0\n",
              "5           5              22     24         92.0\n",
              "6           6               3      4         75.0\n",
              "7           8               1      1        100.0"
            ],
            "text/html": [
              "\n",
              "  <div id=\"df-21dcf6e7-c4e2-46e7-bb59-d529d6e4a166\">\n",
              "    <div class=\"colab-df-container\">\n",
              "      <div>\n",
              "<style scoped>\n",
              "    .dataframe tbody tr th:only-of-type {\n",
              "        vertical-align: middle;\n",
              "    }\n",
              "\n",
              "    .dataframe tbody tr th {\n",
              "        vertical-align: top;\n",
              "    }\n",
              "\n",
              "    .dataframe thead th {\n",
              "        text-align: right;\n",
              "    }\n",
              "</style>\n",
              "<table border=\"1\" class=\"dataframe\">\n",
              "  <thead>\n",
              "    <tr style=\"text-align: right;\">\n",
              "      <th></th>\n",
              "      <th>milestones</th>\n",
              "      <th>Total Succeded</th>\n",
              "      <th>Total</th>\n",
              "      <th>Succes Rate</th>\n",
              "    </tr>\n",
              "  </thead>\n",
              "  <tbody>\n",
              "    <tr>\n",
              "      <th>0</th>\n",
              "      <td>0</td>\n",
              "      <td>46</td>\n",
              "      <td>143</td>\n",
              "      <td>32.0</td>\n",
              "    </tr>\n",
              "    <tr>\n",
              "      <th>1</th>\n",
              "      <td>1</td>\n",
              "      <td>140</td>\n",
              "      <td>230</td>\n",
              "      <td>61.0</td>\n",
              "    </tr>\n",
              "    <tr>\n",
              "      <th>2</th>\n",
              "      <td>2</td>\n",
              "      <td>160</td>\n",
              "      <td>217</td>\n",
              "      <td>74.0</td>\n",
              "    </tr>\n",
              "    <tr>\n",
              "      <th>3</th>\n",
              "      <td>3</td>\n",
              "      <td>135</td>\n",
              "      <td>164</td>\n",
              "      <td>82.0</td>\n",
              "    </tr>\n",
              "    <tr>\n",
              "      <th>4</th>\n",
              "      <td>4</td>\n",
              "      <td>43</td>\n",
              "      <td>54</td>\n",
              "      <td>80.0</td>\n",
              "    </tr>\n",
              "    <tr>\n",
              "      <th>5</th>\n",
              "      <td>5</td>\n",
              "      <td>22</td>\n",
              "      <td>24</td>\n",
              "      <td>92.0</td>\n",
              "    </tr>\n",
              "    <tr>\n",
              "      <th>6</th>\n",
              "      <td>6</td>\n",
              "      <td>3</td>\n",
              "      <td>4</td>\n",
              "      <td>75.0</td>\n",
              "    </tr>\n",
              "    <tr>\n",
              "      <th>7</th>\n",
              "      <td>8</td>\n",
              "      <td>1</td>\n",
              "      <td>1</td>\n",
              "      <td>100.0</td>\n",
              "    </tr>\n",
              "  </tbody>\n",
              "</table>\n",
              "</div>\n",
              "      <button class=\"colab-df-convert\" onclick=\"convertToInteractive('df-21dcf6e7-c4e2-46e7-bb59-d529d6e4a166')\"\n",
              "              title=\"Convert this dataframe to an interactive table.\"\n",
              "              style=\"display:none;\">\n",
              "        \n",
              "  <svg xmlns=\"http://www.w3.org/2000/svg\" height=\"24px\"viewBox=\"0 0 24 24\"\n",
              "       width=\"24px\">\n",
              "    <path d=\"M0 0h24v24H0V0z\" fill=\"none\"/>\n",
              "    <path d=\"M18.56 5.44l.94 2.06.94-2.06 2.06-.94-2.06-.94-.94-2.06-.94 2.06-2.06.94zm-11 1L8.5 8.5l.94-2.06 2.06-.94-2.06-.94L8.5 2.5l-.94 2.06-2.06.94zm10 10l.94 2.06.94-2.06 2.06-.94-2.06-.94-.94-2.06-.94 2.06-2.06.94z\"/><path d=\"M17.41 7.96l-1.37-1.37c-.4-.4-.92-.59-1.43-.59-.52 0-1.04.2-1.43.59L10.3 9.45l-7.72 7.72c-.78.78-.78 2.05 0 2.83L4 21.41c.39.39.9.59 1.41.59.51 0 1.02-.2 1.41-.59l7.78-7.78 2.81-2.81c.8-.78.8-2.07 0-2.86zM5.41 20L4 18.59l7.72-7.72 1.47 1.35L5.41 20z\"/>\n",
              "  </svg>\n",
              "      </button>\n",
              "      \n",
              "  <style>\n",
              "    .colab-df-container {\n",
              "      display:flex;\n",
              "      flex-wrap:wrap;\n",
              "      gap: 12px;\n",
              "    }\n",
              "\n",
              "    .colab-df-convert {\n",
              "      background-color: #E8F0FE;\n",
              "      border: none;\n",
              "      border-radius: 50%;\n",
              "      cursor: pointer;\n",
              "      display: none;\n",
              "      fill: #1967D2;\n",
              "      height: 32px;\n",
              "      padding: 0 0 0 0;\n",
              "      width: 32px;\n",
              "    }\n",
              "\n",
              "    .colab-df-convert:hover {\n",
              "      background-color: #E2EBFA;\n",
              "      box-shadow: 0px 1px 2px rgba(60, 64, 67, 0.3), 0px 1px 3px 1px rgba(60, 64, 67, 0.15);\n",
              "      fill: #174EA6;\n",
              "    }\n",
              "\n",
              "    [theme=dark] .colab-df-convert {\n",
              "      background-color: #3B4455;\n",
              "      fill: #D2E3FC;\n",
              "    }\n",
              "\n",
              "    [theme=dark] .colab-df-convert:hover {\n",
              "      background-color: #434B5C;\n",
              "      box-shadow: 0px 1px 3px 1px rgba(0, 0, 0, 0.15);\n",
              "      filter: drop-shadow(0px 1px 2px rgba(0, 0, 0, 0.3));\n",
              "      fill: #FFFFFF;\n",
              "    }\n",
              "  </style>\n",
              "\n",
              "      <script>\n",
              "        const buttonEl =\n",
              "          document.querySelector('#df-21dcf6e7-c4e2-46e7-bb59-d529d6e4a166 button.colab-df-convert');\n",
              "        buttonEl.style.display =\n",
              "          google.colab.kernel.accessAllowed ? 'block' : 'none';\n",
              "\n",
              "        async function convertToInteractive(key) {\n",
              "          const element = document.querySelector('#df-21dcf6e7-c4e2-46e7-bb59-d529d6e4a166');\n",
              "          const dataTable =\n",
              "            await google.colab.kernel.invokeFunction('convertToInteractive',\n",
              "                                                     [key], {});\n",
              "          if (!dataTable) return;\n",
              "\n",
              "          const docLinkHtml = 'Like what you see? Visit the ' +\n",
              "            '<a target=\"_blank\" href=https://colab.research.google.com/notebooks/data_table.ipynb>data table notebook</a>'\n",
              "            + ' to learn more about interactive tables.';\n",
              "          element.innerHTML = '';\n",
              "          dataTable['output_type'] = 'display_data';\n",
              "          await google.colab.output.renderOutput(dataTable, element);\n",
              "          const docLink = document.createElement('div');\n",
              "          docLink.innerHTML = docLinkHtml;\n",
              "          element.appendChild(docLink);\n",
              "        }\n",
              "      </script>\n",
              "    </div>\n",
              "  </div>\n",
              "  "
            ]
          },
          "metadata": {},
          "execution_count": 19
        }
      ]
    },
    {
      "cell_type": "code",
      "source": [
        "fig, ax = plt.subplots(figsize=(15,7))\n",
        "\n",
        "g = sns.barplot(x = 'milestones',y='Succes Rate',data=graf_data_milestones,ax=ax, \n",
        "               palette=sns.color_palette(\"Blues_d\", n_colors=13))\n",
        "\n",
        "x = np.arange(len(graf_data_milestones))\n",
        "y = graf_data_milestones['Succes Rate']\n",
        "\n",
        "for i, v in enumerate(y):\n",
        "    ax.text(x[i]- 0.1, v+3, str(v)+'%', fontsize = 12, color='gray', fontweight='bold')\n",
        "\n",
        "ax.set_ylim(0,120)\n",
        "\n",
        "ax.set_xticklabels(ax.get_xticklabels(),rotation=0)\n",
        "plt.tight_layout\n",
        "plt.margins(0.05, 0.0)"
      ],
      "metadata": {
        "colab": {
          "base_uri": "https://localhost:8080/",
          "height": 446
        },
        "id": "js1a8KmXQJJt",
        "outputId": "f3e64455-92e4-46a6-e36d-136dcfadef07"
      },
      "execution_count": null,
      "outputs": [
        {
          "output_type": "display_data",
          "data": {
            "text/plain": [
              "<Figure size 1080x504 with 1 Axes>"
            ],
            "image/png": "[encoded data removed]"
          },
          "metadata": {
            "needs_background": "light"
          }
        }
      ]
    },
    {
      "cell_type": "markdown",
      "source": [
        "Iz grafa je razvidno, da se po prvem doseženem mejniku možnosti za uspeh podjetja zelo povečjano, nakar enakomerno rastejo in se stabilizirajo okoli 80% - 90%. Če podjetje uspešno doseže prvi mejnik je lahko to dober pokazatelj za investitorje, da je na pravi poti. "
      ],
      "metadata": {
        "id": "kBF1I_rGjQXx"
      }
    },
    {
      "cell_type": "markdown",
      "source": [
        "####VPLIV ŠTEVILA VEZ PODJETJA"
      ],
      "metadata": {
        "id": "Y21CeAgThI2J"
      }
    },
    {
      "cell_type": "code",
      "source": [
        "temp_df = df.copy()\n",
        "\n",
        "#Dodamo stolpec z razponom števila vez za lažji prikaz analize podatkov\n",
        "temp_df['Relationships Range'] = temp_df['relationships'].apply(lambda x : '0' if x == 0 else '>10' if x > 10 else '1-10')\n",
        "\n",
        "#Izračunamo število podjetji za vsako skupino \n",
        "initial_graph_data_relationships = temp_df.groupby(['Relationships Range', 'is_acquired_numerical']).agg({'name' : 'count'}).reset_index()\n",
        "\n",
        "#Podatke razdelimo v tabelo\n",
        "graph_data_relationships = pd.pivot_table(initial_graph_data_relationships,\n",
        "                          index=['Relationships Range'],\n",
        "                          columns=['is_acquired_numerical'],\n",
        "                          values=['name']).reset_index()\n",
        "\n",
        "#Dodamo stolpce za lepši izpis  \n",
        "graph_data_relationships.columns = ['Relationships Range', 'Closed', 'Acquired']\n",
        "\n",
        "#Izračunamo celotno število podjetih za vsako skupino \n",
        "graph_data_relationships['Total Companies'] = graph_data_relationships['Closed'] + graph_data_relationships['Acquired']\n",
        "\n",
        "##Izračunamo procentualno možnost uspeha podjetja za vsako skupino \n",
        "graph_data_relationships['Success Rate'] = round(graph_data_relationships['Acquired'] / graph_data_relationships['Total Companies'] * 100)\n",
        "\n",
        "graph_data_relationships"
      ],
      "metadata": {
        "colab": {
          "base_uri": "https://localhost:8080/",
          "height": 144
        },
        "id": "TPlF9yTqTp_2",
        "outputId": "a02dba67-413c-4d0e-ea7d-c60f2e139bd4"
      },
      "execution_count": null,
      "outputs": [
        {
          "output_type": "execute_result",
          "data": {
            "text/plain": [
              "  Relationships Range  Closed  Acquired  Total Companies  Success Rate\n",
              "0                   0      33         3               36           8.0\n",
              "1                1-10     233       371              604          61.0\n",
              "2                 >10      21       176              197          89.0"
            ],
            "text/html": [
              "\n",
              "  <div id=\"df-ec165cdf-99ac-4d08-9536-78acc9ebc935\">\n",
              "    <div class=\"colab-df-container\">\n",
              "      <div>\n",
              "<style scoped>\n",
              "    .dataframe tbody tr th:only-of-type {\n",
              "        vertical-align: middle;\n",
              "    }\n",
              "\n",
              "    .dataframe tbody tr th {\n",
              "        vertical-align: top;\n",
              "    }\n",
              "\n",
              "    .dataframe thead th {\n",
              "        text-align: right;\n",
              "    }\n",
              "</style>\n",
              "<table border=\"1\" class=\"dataframe\">\n",
              "  <thead>\n",
              "    <tr style=\"text-align: right;\">\n",
              "      <th></th>\n",
              "      <th>Relationships Range</th>\n",
              "      <th>Closed</th>\n",
              "      <th>Acquired</th>\n",
              "      <th>Total Companies</th>\n",
              "      <th>Success Rate</th>\n",
              "    </tr>\n",
              "  </thead>\n",
              "  <tbody>\n",
              "    <tr>\n",
              "      <th>0</th>\n",
              "      <td>0</td>\n",
              "      <td>33</td>\n",
              "      <td>3</td>\n",
              "      <td>36</td>\n",
              "      <td>8.0</td>\n",
              "    </tr>\n",
              "    <tr>\n",
              "      <th>1</th>\n",
              "      <td>1-10</td>\n",
              "      <td>233</td>\n",
              "      <td>371</td>\n",
              "      <td>604</td>\n",
              "      <td>61.0</td>\n",
              "    </tr>\n",
              "    <tr>\n",
              "      <th>2</th>\n",
              "      <td>&gt;10</td>\n",
              "      <td>21</td>\n",
              "      <td>176</td>\n",
              "      <td>197</td>\n",
              "      <td>89.0</td>\n",
              "    </tr>\n",
              "  </tbody>\n",
              "</table>\n",
              "</div>\n",
              "      <button class=\"colab-df-convert\" onclick=\"convertToInteractive('df-ec165cdf-99ac-4d08-9536-78acc9ebc935')\"\n",
              "              title=\"Convert this dataframe to an interactive table.\"\n",
              "              style=\"display:none;\">\n",
              "        \n",
              "  <svg xmlns=\"http://www.w3.org/2000/svg\" height=\"24px\"viewBox=\"0 0 24 24\"\n",
              "       width=\"24px\">\n",
              "    <path d=\"M0 0h24v24H0V0z\" fill=\"none\"/>\n",
              "    <path d=\"M18.56 5.44l.94 2.06.94-2.06 2.06-.94-2.06-.94-.94-2.06-.94 2.06-2.06.94zm-11 1L8.5 8.5l.94-2.06 2.06-.94-2.06-.94L8.5 2.5l-.94 2.06-2.06.94zm10 10l.94 2.06.94-2.06 2.06-.94-2.06-.94-.94-2.06-.94 2.06-2.06.94z\"/><path d=\"M17.41 7.96l-1.37-1.37c-.4-.4-.92-.59-1.43-.59-.52 0-1.04.2-1.43.59L10.3 9.45l-7.72 7.72c-.78.78-.78 2.05 0 2.83L4 21.41c.39.39.9.59 1.41.59.51 0 1.02-.2 1.41-.59l7.78-7.78 2.81-2.81c.8-.78.8-2.07 0-2.86zM5.41 20L4 18.59l7.72-7.72 1.47 1.35L5.41 20z\"/>\n",
              "  </svg>\n",
              "      </button>\n",
              "      \n",
              "  <style>\n",
              "    .colab-df-container {\n",
              "      display:flex;\n",
              "      flex-wrap:wrap;\n",
              "      gap: 12px;\n",
              "    }\n",
              "\n",
              "    .colab-df-convert {\n",
              "      background-color: #E8F0FE;\n",
              "      border: none;\n",
              "      border-radius: 50%;\n",
              "      cursor: pointer;\n",
              "      display: none;\n",
              "      fill: #1967D2;\n",
              "      height: 32px;\n",
              "      padding: 0 0 0 0;\n",
              "      width: 32px;\n",
              "    }\n",
              "\n",
              "    .colab-df-convert:hover {\n",
              "      background-color: #E2EBFA;\n",
              "      box-shadow: 0px 1px 2px rgba(60, 64, 67, 0.3), 0px 1px 3px 1px rgba(60, 64, 67, 0.15);\n",
              "      fill: #174EA6;\n",
              "    }\n",
              "\n",
              "    [theme=dark] .colab-df-convert {\n",
              "      background-color: #3B4455;\n",
              "      fill: #D2E3FC;\n",
              "    }\n",
              "\n",
              "    [theme=dark] .colab-df-convert:hover {\n",
              "      background-color: #434B5C;\n",
              "      box-shadow: 0px 1px 3px 1px rgba(0, 0, 0, 0.15);\n",
              "      filter: drop-shadow(0px 1px 2px rgba(0, 0, 0, 0.3));\n",
              "      fill: #FFFFFF;\n",
              "    }\n",
              "  </style>\n",
              "\n",
              "      <script>\n",
              "        const buttonEl =\n",
              "          document.querySelector('#df-ec165cdf-99ac-4d08-9536-78acc9ebc935 button.colab-df-convert');\n",
              "        buttonEl.style.display =\n",
              "          google.colab.kernel.accessAllowed ? 'block' : 'none';\n",
              "\n",
              "        async function convertToInteractive(key) {\n",
              "          const element = document.querySelector('#df-ec165cdf-99ac-4d08-9536-78acc9ebc935');\n",
              "          const dataTable =\n",
              "            await google.colab.kernel.invokeFunction('convertToInteractive',\n",
              "                                                     [key], {});\n",
              "          if (!dataTable) return;\n",
              "\n",
              "          const docLinkHtml = 'Like what you see? Visit the ' +\n",
              "            '<a target=\"_blank\" href=https://colab.research.google.com/notebooks/data_table.ipynb>data table notebook</a>'\n",
              "            + ' to learn more about interactive tables.';\n",
              "          element.innerHTML = '';\n",
              "          dataTable['output_type'] = 'display_data';\n",
              "          await google.colab.output.renderOutput(dataTable, element);\n",
              "          const docLink = document.createElement('div');\n",
              "          docLink.innerHTML = docLinkHtml;\n",
              "          element.appendChild(docLink);\n",
              "        }\n",
              "      </script>\n",
              "    </div>\n",
              "  </div>\n",
              "  "
            ]
          },
          "metadata": {},
          "execution_count": 21
        }
      ]
    },
    {
      "cell_type": "code",
      "source": [
        "fig, ax = plt.subplots(figsize=(8,6))\n",
        "\n",
        "g = sns.barplot(x = 'Relationships Range', y = 'Success Rate',data=graph_data_relationships,ax=ax, \n",
        "               palette=sns.color_palette(\"Blues_d\", n_colors=3))\n",
        "\n",
        "x = np.arange(len(graph_data_relationships['Relationships Range']))\n",
        "y = graph_data_relationships['Success Rate']\n",
        "\n",
        "for i, v in enumerate(y):\n",
        "    ax.text(x[i]- 0.1, v+3, str(v)+'%', fontsize = 12, color='gray', fontweight='bold')\n",
        "\n",
        "ax.set_ylim(0,100)\n",
        "  \n",
        "ax.set_xticklabels(ax.get_xticklabels(),rotation=0);\n",
        "plt.margins(0.05, 0.1)"
      ],
      "metadata": {
        "colab": {
          "base_uri": "https://localhost:8080/",
          "height": 392
        },
        "id": "Bass-lb_YsRX",
        "outputId": "f580a334-691c-4d10-a00e-ce556a1f9e81"
      },
      "execution_count": null,
      "outputs": [
        {
          "output_type": "display_data",
          "data": {
            "text/plain": [
              "<Figure size 576x432 with 1 Axes>"
            ],
            "image/png": "[encoded data removed]"
          },
          "metadata": {
            "needs_background": "light"
          }
        }
      ]
    },
    {
      "cell_type": "markdown",
      "source": [
        "Iz grafa je razvidno, da podjetja, ki nimajo nobenih vez zelo težko uspejo. Pokaže se pa, da lahko 1-10 vez, že čisto zdravo število kjer so možnosti za uspeh že relativno visoke. "
      ],
      "metadata": {
        "id": "-ZFcz_OqlhNX"
      }
    },
    {
      "cell_type": "markdown",
      "source": [
        "##STROJNO UČENJE\n",
        "\n",
        "V tem delu bom nad izbrano zbirko podatkov uporabil Random Forest Classifier model strojega učenja, s katerim bomo lahko napovedali kateri startup-i bodo uspeli in analiziral pridboljene podatke. Pred tem pa je potrebno še podatke standardizirati za bolj realne rezultate in pretvoriti kategorične vrednosti v številske. "
      ],
      "metadata": {
        "id": "0Hy9r8eVdHVN"
      }
    },
    {
      "cell_type": "markdown",
      "source": [
        "####STANDARDIZACIJA PODATKOV IN PRETVORBA KATGORIČNIH VREDNOSTI V NUMERIČNE "
      ],
      "metadata": {
        "id": "9mY6Xlrs0Z8q"
      }
    },
    {
      "cell_type": "code",
      "source": [
        "#Določimo stolpce, ki je potrebno standardizirati\n",
        "columns_to_standardize = ['relationships', 'funding_total_usd', 'age_first_funding_year', 'age_last_funding_year', 'age_first_milestone_year', 'age_last_milestone_year']\n",
        "\n",
        "#Standardiziranje\n",
        "scaler = StandardScaler()\n",
        "df[columns_to_standardize] = scaler.fit_transform(df[columns_to_standardize])"
      ],
      "metadata": {
        "id": "zwmI33IBzCg4"
      },
      "execution_count": 20,
      "outputs": []
    },
    {
      "cell_type": "code",
      "source": [
        "#Funkcija za pretvorbo kategoričnih vrednosti v številske\n",
        "def Encoder(df):\n",
        "          columnsToEncode = list(df.select_dtypes(include=['category','object']))\n",
        "          le = LabelEncoder()\n",
        "          for feature in columnsToEncode:\n",
        "              try:\n",
        "                  df[feature] = le.fit_transform(df[feature])\n",
        "              except:\n",
        "                  print('Error encoding '+feature)\n",
        "          return df\n",
        "\n",
        "#Pretvorba kategorčnih vrednosti v številske\n",
        "df_encoded = Encoder(df.drop(['is_acquired_numerical', 'is_acquired'], axis=1)) "
      ],
      "metadata": {
        "id": "FupL-RxxzCyI"
      },
      "execution_count": 21,
      "outputs": []
    },
    {
      "cell_type": "markdown",
      "source": [
        "####ANALIZA IZBIRE NAJPRIMERNEJŠEGA MODELA ZA IZVAJANJE STROJNEGA UČENJA\n",
        "\n",
        "V tem delu bom s pomočjo orodij, ki jih ponuja knjižnica pandas identificiral najprimernejši model strojenga učenja za ta projekt."
      ],
      "metadata": {
        "id": "kcYxzypHzuBJ"
      }
    },
    {
      "cell_type": "code",
      "source": [
        "columns = ['state_code', 'zip_code', 'city', 'name',\n",
        "       'first_funding_at', 'last_funding_at', 'age_first_funding_year',\n",
        "       'age_last_funding_year', 'age_first_milestone_year',\n",
        "       'age_last_milestone_year', 'relationships', 'funding_rounds',\n",
        "       'funding_total_usd', 'milestones', 'category_code', 'is_software',\n",
        "       'is_web', 'is_mobile', 'is_enterprise', 'is_advertising',\n",
        "       'is_gamesvideo', 'is_ecommerce', 'is_biotech', 'is_consulting',\n",
        "       'is_othercategory', 'has_VC', 'has_angel', 'has_roundA', 'has_roundB',\n",
        "       'has_roundC', 'has_roundD', 'avg_participants',\n",
        "       'company_age']\n",
        "\n",
        "df_izhod = df['is_acquired_numerical']\n",
        "df_vhod = df_encoded[columns]\n",
        "\n",
        "klasifikatorji = [KNeighborsClassifier(), RandomForestClassifier(), DecisionTreeClassifier(), GaussianNB(), ExtraTreesClassifier(), GradientBoostingClassifier(), AdaBoostClassifier()] \n",
        "\n",
        "rezultati = []\n",
        "\n",
        "for klasifikator in klasifikatorji:\n",
        "    kfold = StratifiedKFold(n_splits=8, random_state=789, shuffle=True)\n",
        "    cv_rezultati = cross_val_score(klasifikator, \n",
        "                                   df_vhod,\n",
        "                                   df_izhod,\n",
        "                                   cv=kfold, \n",
        "                                   scoring='accuracy'\n",
        "                                  ) \n",
        "    rezultati.append(round(cv_rezultati.mean(), 3))\n",
        "    print(f'{type(klasifikator).__name__ : >30}: {cv_rezultati.mean():1.4f}')"
      ],
      "metadata": {
        "colab": {
          "base_uri": "https://localhost:8080/"
        },
        "id": "IrrNbXSIy-QY",
        "outputId": "475aecc7-e49d-4b90-d26d-d2a1e2603a56"
      },
      "execution_count": 22,
      "outputs": [
        {
          "output_type": "stream",
          "name": "stdout",
          "text": [
            "          KNeighborsClassifier: 0.6189\n",
            "        RandomForestClassifier: 0.8161\n",
            "        DecisionTreeClassifier: 0.7552\n",
            "                    GaussianNB: 0.6392\n",
            "          ExtraTreesClassifier: 0.8066\n",
            "    GradientBoostingClassifier: 0.8543\n",
            "            AdaBoostClassifier: 0.8388\n"
          ]
        }
      ]
    },
    {
      "cell_type": "code",
      "source": [
        "data = {\n",
        "    \"classifier\": ['KNeighborsClassifier', 'RandomForestClassifier', 'DecisionTreeClassifier', 'GaussianNB', 'ExtraTreesClassifier', 'GradientBoostingClassifier', 'AdaBoostClassifier'],\n",
        "    \"accuracy_score\": rezultati,\n",
        "}\n",
        "\n",
        "tempDf = pd.DataFrame(data)\n",
        "\n",
        "sns.barplot(x='classifier', \n",
        "            y='accuracy_score', \n",
        "            data=tempDf, \n",
        "            palette='Blues_d')\n",
        "plt.xticks(rotation=-90)"
      ],
      "metadata": {
        "colab": {
          "base_uri": "https://localhost:8080/",
          "height": 474
        },
        "id": "i7j7inrjzo4r",
        "outputId": "735744af-d5c2-4f5b-b2cd-a2ab00b9c68a"
      },
      "execution_count": 26,
      "outputs": [
        {
          "output_type": "execute_result",
          "data": {
            "text/plain": [
              "(array([0, 1, 2, 3, 4, 5, 6]), <a list of 7 Text major ticklabel objects>)"
            ]
          },
          "metadata": {},
          "execution_count": 26
        },
        {
          "output_type": "display_data",
          "data": {
            "text/plain": [
              "<Figure size 511.2x360 with 1 Axes>"
            ],
            "image/png": "[encoded data removed]"
          },
          "metadata": {
            "needs_background": "light"
          }
        }
      ]
    },
    {
      "cell_type": "markdown",
      "source": [
        "Rezultati nam pokažejo, da je najboljša izbira za moj projekt klasifikator Gradient Boosting Classifier, katerega bom tudi uporabil za strojno učenje."
      ],
      "metadata": {
        "id": "Nvz6Yfvgz9dq"
      }
    },
    {
      "cell_type": "markdown",
      "source": [
        "####DELJENJE NA UČNO IN TESTNO MNOŽICO IN UČENJE MODELA"
      ],
      "metadata": {
        "id": "PODquYMj0Rtv"
      }
    },
    {
      "cell_type": "code",
      "source": [
        "from sklearn.ensemble import GradientBoostingClassifier\n",
        "\n",
        "X_train, X_test, y_train, y_test = train_test_split(df_encoded[columns], df['is_acquired_numerical'], test_size=0.25, random_state=123)\n",
        "\n",
        "model = GradientBoostingClassifier(n_estimators=100)\n",
        "model.fit(X_train, y_train)\n",
        "predictions = model.predict(X_test)"
      ],
      "metadata": {
        "id": "eHn4ItOi014V"
      },
      "execution_count": 15,
      "outputs": []
    },
    {
      "cell_type": "code",
      "source": [
        "print('Confusion matrix:\\n') \n",
        "matrix = metrics.confusion_matrix(predictions, y_test)\n",
        "plt.rcParams['figure.figsize'] = (7.1,5)\n",
        "sns.heatmap(matrix, annot = True, cmap = 'YlGnBu', fmt = '.8g')\n",
        "plt.show()\n",
        "print(\"\\n-----------------------------------------------------\")\n",
        "print('\\nAccuracy score:', round(metrics.accuracy_score(predictions, y_test), 4))\n",
        "print(\"\\n-----------------------------------------------------\")\n",
        "print('\\nClassification report:\\n')\n",
        "print(metrics.classification_report(predictions, y_test)) \n",
        "print(\"-----------------------------------------------------\")\n",
        "print('\\nROC-AUC score:', round(metrics.roc_auc_score(predictions, y_test),4))"
      ],
      "metadata": {
        "colab": {
          "base_uri": "https://localhost:8080/",
          "height": 719
        },
        "id": "HHxVKDFjD71l",
        "outputId": "02225b4a-1a8d-4883-f19d-763884c0b281"
      },
      "execution_count": 16,
      "outputs": [
        {
          "output_type": "stream",
          "name": "stdout",
          "text": [
            "Confusion matrix:\n",
            "\n"
          ]
        },
        {
          "output_type": "display_data",
          "data": {
            "text/plain": [
              "<Figure size 511.2x360 with 2 Axes>"
            ],
            "image/png": "[encoded data removed]"
          },
          "metadata": {
            "needs_background": "light"
          }
        },
        {
          "output_type": "stream",
          "name": "stdout",
          "text": [
            "\n",
            "-----------------------------------------------------\n",
            "\n",
            "Accuracy score: 0.881\n",
            "\n",
            "-----------------------------------------------------\n",
            "\n",
            "Classification report:\n",
            "\n",
            "              precision    recall  f1-score   support\n",
            "\n",
            "           0       0.80      0.84      0.82        67\n",
            "           1       0.92      0.90      0.91       143\n",
            "\n",
            "    accuracy                           0.88       210\n",
            "   macro avg       0.86      0.87      0.86       210\n",
            "weighted avg       0.88      0.88      0.88       210\n",
            "\n",
            "-----------------------------------------------------\n",
            "\n",
            "ROC-AUC score: 0.869\n"
          ]
        }
      ]
    },
    {
      "cell_type": "markdown",
      "source": [
        "Iz rezultatov lahko vidimo, da model Gradient Boosting Clasiffier napove uspešnost startup-a 88% natančno, kar bi lahko bilo lahko vlagateljem dodatna informacija k vprašanju ali je smiselno vložiti denar. "
      ],
      "metadata": {
        "id": "LhJBVuUtjhtW"
      }
    },
    {
      "cell_type": "markdown",
      "source": [
        "##ZAKLJUČEK\n",
        "Z analizo podatkov o startupih in njihovih rezultatih sem lahko prepoznal vzorce in trende, ki jih je mogoče uporabiti za natančnejše napovedi uspeha novih podjetij. S pomočjo uporabe Gradient Boosting Clasiffier-ja, mi je uspelo zgraditi model, ki lahko napove uspeh startupov na podlagi različnih dejavnikov, kot so industrija, lokacija, izkušnje ustanovitelja, partnerstva in začetno financiranje. Rezultati tega projekta so lahko dragoceni za podjetnike, ki želijo oceniti izvedljivost svojih poslovnih idej, in za vlagatelje, ki želijo sprejemati težke investicijske odločitve. Upam, da bo model služil kot uporabno orodje za tiste, ki želijo navigirati v pogosto tveganem svetu startupov, in povečati svoje možnosti za uspeh."
      ],
      "metadata": {
        "id": "MalaoYaAlhdB"
      }
    }
  ]
}